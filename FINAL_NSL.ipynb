{
 "cells": [
  {
   "cell_type": "code",
   "execution_count": 128,
   "metadata": {
    "collapsed": false,
    "deletable": true,
    "editable": true
   },
   "outputs": [],
   "source": [
    "import pandas as pd\n",
    "import numpy as np\n",
    "import random\n",
    "import tensorflow as tf\n",
    "import keras\n",
    "from keras.models import Sequential,Model,load_model\n",
    "from keras.layers import Dense, Activation, Dropout\n",
    "\n"
   ]
  },
  {
   "cell_type": "code",
   "execution_count": 129,
   "metadata": {
    "collapsed": false,
    "deletable": true,
    "editable": true
   },
   "outputs": [],
   "source": [
    "class NSL_KDD_handler:\n",
    "    def dense_to_one_hot(self,labels_dense, num_classes=10):\n",
    "        \"\"\"Convert class labels from scalars to one-hot vectors.\"\"\"\n",
    "        num_labels = labels_dense.shape[0]\n",
    "        index_offset = np.arange(num_labels) * num_classes\n",
    "        labels_one_hot = np.zeros((num_labels, num_classes))\n",
    "        labels_one_hot.flat[index_offset + labels_dense.ravel()] = 1\n",
    "        return labels_one_hot\n",
    "\n",
    "    \n",
    "    def dataReaderAndEncoder(self,name_of_file):\n",
    "        print('reading',name_of_file)\n",
    "        data=pd.read_csv(name_of_file,sep=',',names=['duration','protocol_type','service','flag','src_bytes',\n",
    "                                                                    'dst_bytes','land','wrong_fragment','urgent','hot',\n",
    "                                                                    'num_failed_logins','logged_in','num_compromised',\n",
    "                                                                    'root_shell','su_attempted','num_root','num_file_creations',\n",
    "                                                                    'num_shells','num_access_files','num_outbound_cmds',\n",
    "                                                                    'is_host_logi','is_guest_login','count','srv_count',\n",
    "                                                                    'serror_rate','srv_serror_rate','rerror_rate',\n",
    "                                                                    'srv_rerror_rate','same_srv_rate','diff_srv_rate',\n",
    "                                                                    'srv_diff_host_rate','dst_host_count','dst_host_srv_count',\n",
    "                                                                    'dst_host_same_srv_rate','dst_host_diff_srv_rate',\n",
    "                                                                    'dst_host_same_src_port_rate','dst_host_srv_diff_host_rate',\n",
    "                                                                    'dst_host_serror_rate','dst_host_srv_serror_rate',\n",
    "                                                                    'dst_host_rerror_rate','dst_host_srv_rerror_rate',\n",
    "                                                                    'class','diff'])\n",
    "\n",
    "        data['protocol_type']=data['protocol_type'].map({'tcp':1,'udp':2, 'icmp':3})\n",
    "        data['protocol_type']=NSL_KDD_handler.dense_to_one_hot(self,data['protocol_type'], num_classes=3)\n",
    "        data['service']=data['service'].map({'ftp_data':1,'other':2,'private':3,'http':4,'remote_job':5,'name':6,\n",
    "                                                 'netbios_ns':7,'eco_i':8,'mtp':9,'telnet':10,'finger':11,'domain_u':12,\n",
    "                                                 'supdup':13,'uucp_path':14,'Z39_50':15,'smtp':16,'csnet_ns':17, 'uucp':18,\n",
    "                                                 'netbios_dgm':19,'urp_i':20,'auth':21, 'domain':22, 'ftp':23, 'bgp':24,\n",
    "                                                 'ldap':25, 'ecr_i':26,'gopher':27, 'vmnet':28, 'systat':29, 'http_443':30,\n",
    "                                                 'efs':31, 'whois':32, 'imap4':33,'iso_tsap':34, 'echo':35, 'klogin':36,\n",
    "                                                 'link':37, 'sunrpc':38, 'login':39,'kshell':40,'sql_net':41, 'time':42,\n",
    "                                                 'hostnames':43 ,'exec':44, 'ntp_u':45, 'discard':46,'nntp':47, 'courier':48,\n",
    "                                                 'ctf':49, 'ssh':50,'daytime':51, 'shell':52,'netstat':53,'pop_3':54,\n",
    "                                                 'nnsp':55,'IRC':56, 'pop_2':57,'printer':58,'tim_i':59,'pm_dump':60,\n",
    "                                                 'red_i':61, 'netbios_ssn':62, 'rje':63, 'X11':64, 'urh_i':65,'http_8001':66,\n",
    "                                                 'aol':67,'http_2784':68, 'tftp_u':69,'harvest':70})\n",
    "        data['flag']=data['flag'].map({'SF':1,'S0':2,'REJ':3,'RSTR':4,'SH':5,'RSTO':6,'S1':7,'RSTOS0':8,'S3':9,'S2':10,'OTH':11})\n",
    "    \n",
    "        return data\n",
    "    \n",
    "    \n",
    "    def classEncoder(self,data,number_of_class,file):\n",
    "        print(\"1-N Encoding done\")\n",
    "    #dos=1,probe=2,r2l=3,u2r=4\n",
    "        if (file == 'train' and number_of_class == 23):\n",
    "            data=data.map({'normal':0,'neptune':1,'warezclient':2,'ipsweep':3,'portsweep':4,'teardrop':5,\n",
    "                                         'nmap':6,'satan':7,'smurf':8,'pod':9,'back':10,'guess_passwd':11,'ftp_write':12,\n",
    "                                         'multihop':13,'rootkit':14,'buffer_overflow':15,'imap':16,'warezmaster':17,\n",
    "                                         'phf':18,'land':19,'loadmodule':20,'spy':21,'perl':22})\n",
    "    \n",
    "        \n",
    "        if (file=='train' and number_of_class==5):\n",
    "   \n",
    "            data=data.map({'normal':0,'neptune':1,'warezclient':3,'ipsweep':2,'portsweep':2,'teardrop':1,\n",
    "                                             'nmap':2,'satan':2,'smurf':1,'pod':1,'back':1,'guess_passwd':3,'ftp_write':3,\n",
    "                                             'multihop':3,'rootkit':4,'buffer_overflow':4,'imap':3,'warezmaster':3,\n",
    "                                             'phf':3,'land':1,'loadmodule':4,'spy':3,'perl':4})\n",
    "\n",
    "        if (file=='train' and number_of_class==2):\n",
    "\n",
    "            data=data.map({'normal':0,'neptune':1,'warezclient':1,'ipsweep':1,'portsweep':1,'teardrop':1,\n",
    "                                             'nmap':1,'satan':1,'smurf':1,'pod':1,'back':1,'guess_passwd':1,'ftp_write':1,\n",
    "                                             'multihop':1,'rootkit':1,'buffer_overflow':1,'imap':1,'warezmaster':1,\n",
    "                                             'phf':1,'land':1,'loadmodule':1,'spy':1,'perl':1})\n",
    "\n",
    "        if (file=='test' and number_of_class==5):\n",
    "\n",
    "            data=data.map({'guess_passwd':3,'snmpguess':3,'processtable':1,'normal':0,'nmap':2,\n",
    "                                             'back':1,'neptune':1,'satan':2,'saint':2,'mscan':2,'apache2':1,'httptunnel':3,\n",
    "                                             'warezmaster':3,'ipsweep':2,'smurf':1,'mailbomb':3,'teardrop':1,'portsweep':2,\n",
    "                                             'snmpgetattack':3, 'multihop':3,'worm':1,'land':1,'sendmail':3,'buffer_overflow':4,\n",
    "                                             'pod':1,'rootkit':4,'xlock':3,'xterm':4,'xsnoop':3,'ps':4,'named':3,\n",
    "                                             'ftp_write':3,'loadmodule':4,'phf':3,'udpstorm':1,'perl':4,'sqlattack':4,'imap':3})\n",
    "        if (file=='test' and number_of_class==2):\n",
    "   \n",
    "            data=data.map({'guess_passwd':1,'snmpguess':1,'processtable':1,'normal':0,'nmap':1,\n",
    "                                             'back':1,'neptune':1,'satan':1,'saint':1,'mscan':1,'apache2':1,'httptunnel':1,\n",
    "                                             'warezmaster':1,'ipsweep':1,'smurf':1,'mailbomb':1,'teardrop':1,'portsweep':1,\n",
    "                                             'snmpgetattack':1, 'multihop':1,'worm':1,'land':1,'sendmail':1,'buffer_overflow':1,\n",
    "                                             'pod':1,'rootkit':1,'xlock':1,'xterm':1,'xsnoop':1,'ps':1,'named':1,\n",
    "                                             'ftp_write':1,'loadmodule':1,'phf':1,'udpstorm':1,'perl':1,'sqlattack':1,'imap':1})\n",
    "        return data\n",
    "    \n",
    "    \n",
    "    def getData(self,percent_of_data,number_of_class):\n",
    "    #reading training data\n",
    "        if(percent_of_data!=20):\n",
    "            data_training=NSL_KDD_handler.dataReaderAndEncoder(self,'training_data_for_handler.txt')\n",
    "        else:\n",
    "            data_training=NSL_KDD_handler.dataReaderAndEncoder(self,'20%for_handler.txt')\n",
    "        #reading testing data\n",
    "        data_testing=NSL_KDD_handler.dataReaderAndEncoder(self,'testing_data_for_handler.txt')\n",
    "        #splitting data in labels and features\n",
    "        training_labels=data_training['class']\n",
    "        training_labels=NSL_KDD_handler.classEncoder(self,training_labels,number_of_class,'train')\n",
    "        training_features=data_training.drop('class',1)\n",
    "        training_features=training_features.drop('diff',1)\n",
    "        \n",
    "\n",
    "        #splitting testing data\n",
    "        testing_labels=data_testing['class']\n",
    "        testing_labels=NSL_KDD_handler.classEncoder(self,testing_labels,number_of_class,'test')\n",
    "        testing_features=data_testing.drop('class',1)\n",
    "        testing_features=testing_features.drop('diff',1)\n",
    "\n",
    "\n",
    "        return training_features,training_labels,testing_features,testing_labels"
   ]
  },
  {
   "cell_type": "code",
   "execution_count": 131,
   "metadata": {
    "collapsed": false,
    "deletable": true,
    "editable": true
   },
   "outputs": [
    {
     "name": "stdout",
     "output_type": "stream",
     "text": [
      "reading training_data_for_handler.txt\n",
      "reading testing_data_for_handler.txt\n",
      "1-N Encoding done\n",
      "1-N Encoding done\n"
     ]
    }
   ],
   "source": [
    "datasetObj=NSL_KDD_handler()\n",
    "n_classes=5\n",
    "xtrain,ytrain,xtest,ytest=datasetObj.getData(100,n_classes)\n",
    "\n"
   ]
  },
  {
   "cell_type": "code",
   "execution_count": null,
   "metadata": {
    "collapsed": false,
    "deletable": true,
    "editable": true
   },
   "outputs": [],
   "source": []
  },
  {
   "cell_type": "code",
   "execution_count": 132,
   "metadata": {
    "collapsed": false
   },
   "outputs": [],
   "source": [
    "class nids:\n",
    "    def modelcreator(self,n_inputs,n_hidden_units):\n",
    "        model=Sequential()\n",
    "        model.add(Dense(input_dim=n_inputs, output_dim=n_hidden_units,bias=True))\n",
    "        model.add(Activation(\"relu\"))\n",
    "        model.add(Dense(output_dim=n_hidden_units,bias=True))\n",
    "        model.add(Activation(\"relu\"))\n",
    "        model.add(Dense(output_dim=n_hidden_units,bias=True))\n",
    "        model.add(Activation(\"relu\"))\n",
    "        model.add(Dense(output_dim=1))\n",
    "        model.add(Activation(\"sigmoid\"))\n",
    "        model.compile(loss='binary_crossentropy', optimizer='adam', metrics=['accuracy'])\n",
    "        print(\"Model created\")\n",
    "        print(\"Input units: \",n_inputs)\n",
    "        print(\"Hidden units: \",n_hidden_units)\n",
    "        return model\n",
    "    \n",
    "    def GetData(self,attack,names,datasetObj):\n",
    "        data_training=datasetObj.dataReaderAndEncoder('training_data_for_handler.txt')\n",
    "        data_testing=datasetObj.dataReaderAndEncoder('testing_data_for_handler.txt')\n",
    "        if(attack=='dos'):\n",
    "            print(\"DoS label encoding done\")\n",
    "            data_training['class']=data_training['class'].map({'normal':0,'neptune':1,'warezclient':0,'ipsweep':0,'portsweep':0,'teardrop':1,\n",
    "                                                 'nmap':0,'satan':0,'smurf':1,'pod':1,'back':1,'guess_passwd':0,'ftp_write':0,\n",
    "                                                 'multihop':0,'rootkit':0,'buffer_overflow':0,'imap':0,'warezmaster':0,\n",
    "                                                 'phf':0,'land':1,'loadmodule':0,'spy':0,'perl':0})\n",
    "            data_testing['class']=data_testing['class'].map({'guess_passwd':0,'snmpguess':0,'processtable':1,'normal':0,'nmap':0,\n",
    "                                                 'back':1,'neptune':1,'satan':0,'saint':0,'mscan':0,'apache2':1,'httptunnel':0,\n",
    "                                                 'warezmaster':0,'ipsweep':0,'smurf':1,'mailbomb':0,'teardrop':1,'portsweep':0,\n",
    "                                                 'snmpgetattack':0, 'multihop':0,'worm':1,'land':1,'sendmail':0,'buffer_overflow':0,\n",
    "                                                 'pod':1,'rootkit':0,'xlock':0,'xterm':0,'xsnoop':0,'ps':0,'named':0,\n",
    "                                                 'ftp_write':0,'loadmodule':0,'phf':0,'udpstorm':1,'perl':0,'sqlattack':0,'imap':0})\n",
    "\n",
    "        if(attack=='probe'):\n",
    "            print(\"Probe label encoding done\")\n",
    "            data_training['class']=data_training['class'].map({'normal':0,'neptune':0,'warezclient':0,'ipsweep':1,'portsweep':1,'teardrop':0,\n",
    "                                                 'nmap':1,'satan':1,'smurf':0,'pod':0,'back':0,'guess_passwd':0,'ftp_write':0,\n",
    "                                                 'multihop':0,'rootkit':0,'buffer_overflow':0,'imap':0,'warezmaster':0,\n",
    "                                                 'phf':0,'land':0,'loadmodule':0,'spy':0,'perl':0})\n",
    "            data_testing['class']=data_testing['class'].map({'guess_passwd':0,'snmpguess':0,'processtable':0,'normal':0,'nmap':1,\n",
    "                                                 'back':0,'neptune':0,'satan':1,'saint':1,'mscan':1,'apache2':0,'httptunnel':0,\n",
    "                                                 'warezmaster':0,'ipsweep':1,'smurf':0,'mailbomb':0,'teardrop':0,'portsweep':1,\n",
    "                                                 'snmpgetattack':0, 'multihop':0,'worm':0,'land':0,'sendmail':0,'buffer_overflow':0,\n",
    "                                                 'pod':0,'rootkit':0,'xlock':0,'xterm':0,'xsnoop':0,'ps':0,'named':0,\n",
    "                                                 'ftp_write':0,'loadmodule':0,'phf':0,'udpstorm':0,'perl':0,'sqlattack':0,'imap':0})\n",
    "        if(attack=='r2l'):\n",
    "            print(\"R2L label encoding done \")\n",
    "            data_training['class']=data_training['class'].map({'normal':0,'neptune':0,'warezclient':1,'ipsweep':0,'portsweep':0,'teardrop':0,\n",
    "                                                 'nmap':0,'satan':0,'smurf':0,'pod':0,'back':0,'guess_passwd':1,'ftp_write':1,\n",
    "                                                 'multihop':1,'rootkit':0,'buffer_overflow':0,'imap':1,'warezmaster':1,\n",
    "                                                 'phf':1,'land':0,'loadmodule':0,'spy':1,'perl':0})\n",
    "            data_testing['class']=data_testing['class'].map({'guess_passwd':1,'snmpguess':1,'processtable':0,'normal':0,'nmap':0,\n",
    "                                                 'back':0,'neptune':0,'satan':0,'saint':0,'mscan':0,'apache2':0,'httptunnel':1,\n",
    "                                                 'warezmaster':1,'ipsweep':0,'smurf':0,'mailbomb':1,'teardrop':0,'portsweep':0,\n",
    "                                                 'snmpgetattack':1, 'multihop':1,'worm':0,'land':0,'sendmail':1,'buffer_overflow':0,\n",
    "                                                 'pod':0,'rootkit':0,'xlock':1,'xterm':0,'xsnoop':1,'ps':0,'named':1,\n",
    "                                                 'ftp_write':1,'loadmodule':0,'phf':3,'udpstorm':0,'perl':0,'sqlattack':0,'imap':1})\n",
    "\n",
    "        if(attack=='u2r'):\n",
    "            print(\"U2R label encoding done\")\n",
    "            data_training['class']=data_training['class'].map({'normal':0,'neptune':0,'warezclient':0,'ipsweep':0,'portsweep':0,'teardrop':0,\n",
    "                                                 'nmap':0,'satan':0,'smurf':0,'pod':0,'back':0,'guess_passwd':0,'ftp_write':0,\n",
    "                                                 'multihop':0,'rootkit':1,'buffer_overflow':1,'imap':0,'warezmaster':0,\n",
    "                                                 'phf':0,'land':0,'loadmodule':1,'spy':0,'perl':1})\n",
    "            data_testing['class']=data_testing['class'].map({'guess_passwd':0,'snmpguess':0,'processtable':0,'normal':0,'nmap':0,\n",
    "                                                 'back':0,'neptune':0,'satan':0,'saint':0,'mscan':0,'apache2':0,'httptunnel':0,\n",
    "                                                 'warezmaster':0,'ipsweep':0,'smurf':0,'mailbomb':0,'teardrop':0,'portsweep':0,\n",
    "                                                 'snmpgetattack':0, 'multihop':0,'worm':0,'land':0,'sendmail':0,'buffer_overflow':0,\n",
    "                                                 'pod':0,'rootkit':1,'xlock':0,'xterm':1,'xsnoop':0,'ps':1,'named':0,\n",
    "                                                 'ftp_write':0,'loadmodule':1,'phf':0,'udpstorm':0,'perl':1,'sqlattack':1,'imap':0})\n",
    "        if(attack=='normal'):\n",
    "            print(\"Normal label encoding done\")\n",
    "            data_training[\"class\"]=data_training['class'].map({'normal':0,'neptune':1,'warezclient':1,'ipsweep':1,'portsweep':1,'teardrop':1,\n",
    "                                                 'nmap':1,'satan':1,'smurf':1,'pod':1,'back':1,'guess_passwd':1,'ftp_write':1,\n",
    "                                                 'multihop':1,'rootkit':1,'buffer_overflow':1,'imap':1,'warezmaster':1,\n",
    "                                                 'phf':1,'land':1,'loadmodule':1,'spy':1,'perl':1})\n",
    "\n",
    "            data_testing['class']=data_testing['class'].map({'guess_passwd':1,'snmpguess':1,'processtable':1,'normal':0,'nmap':1,\n",
    "                                                 'back':1,'neptune':1,'satan':1,'saint':1,'mscan':1,'apache2':1,'httptunnel':1,\n",
    "                                                 'warezmaster':1,'ipsweep':1,'smurf':1,'mailbomb':1,'teardrop':1,'portsweep':1,\n",
    "                                                 'snmpgetattack':1, 'multihop':1,'worm':1,'land':1,'sendmail':1,'buffer_overflow':1,\n",
    "                                                 'pod':1,'rootkit':1,'xlock':1,'xterm':1,'xsnoop':1,'ps':1,'named':1,\n",
    "                                                 'ftp_write':1,'loadmodule':1,'phf':1,'udpstorm':1,'perl':1,'sqlattack':1,'imap':1})\n",
    "        xtrain=data_training\n",
    "        xtest=data_testing\n",
    "        ytrain=xtrain['class']\n",
    "        xtrain=xtrain[names]\n",
    "        xtest=data_testing[names]\n",
    "        ytest=data_testing['class']\n",
    "\n",
    "        return xtrain,ytrain,xtest,ytest"
   ]
  },
  {
   "cell_type": "code",
   "execution_count": 133,
   "metadata": {
    "collapsed": true
   },
   "outputs": [],
   "source": [
    "nidsObj=nids()"
   ]
  },
  {
   "cell_type": "markdown",
   "metadata": {},
   "source": [
    "#                                          SYSTEM ARCHITECTURE\n",
    "![alt text](systemarchitecture.png \"SYSTEM ARCHITECTURE\")"
   ]
  },
  {
   "cell_type": "code",
   "execution_count": null,
   "metadata": {
    "collapsed": true
   },
   "outputs": [],
   "source": []
  },
  {
   "cell_type": "markdown",
   "metadata": {},
   "source": [
    "# PHASE 1 TRAINING"
   ]
  },
  {
   "cell_type": "code",
   "execution_count": 134,
   "metadata": {
    "collapsed": false
   },
   "outputs": [
    {
     "name": "stdout",
     "output_type": "stream",
     "text": [
      "reading training_data_for_handler.txt\n",
      "reading testing_data_for_handler.txt\n",
      "DoS label encoding done\n",
      "Model created\n",
      "Input units:  9\n",
      "Hidden units:  7\n"
     ]
    }
   ],
   "source": [
    "#dos\n",
    "dosnames=['duration','protocol_type','flag','src_bytes','count','dst_host_same_srv_rate','dst_host_serror_rate',\n",
    "          'dst_host_srv_serror_rate','dst_host_rerror_rate']\n",
    "xtrain,ytrain,xtest,ytest=nidsObj.GetData(attack=\"dos\",names=dosnames,datasetObj=datasetObj)\n",
    "dosDetector=nidsObj.modelcreator(n_inputs=9,n_hidden_units=7)"
   ]
  },
  {
   "cell_type": "code",
   "execution_count": 135,
   "metadata": {
    "collapsed": false
   },
   "outputs": [
    {
     "name": "stdout",
     "output_type": "stream",
     "text": [
      "reading training_data_for_handler.txt\n",
      "reading testing_data_for_handler.txt\n",
      "Probe label encoding done\n",
      "Model created\n",
      "Input units:  5\n",
      "Hidden units:  3\n"
     ]
    }
   ],
   "source": [
    "#probe\n",
    "probenames=['duration','protocol_type','service','flag','src_bytes']\n",
    "xtrain,ytrain,xtest,ytest=nidsObj.GetData(attack=\"probe\",names=probenames,datasetObj=datasetObj)\n",
    "ProbeDetector=nidsObj.modelcreator(5,3)\n"
   ]
  },
  {
   "cell_type": "code",
   "execution_count": 136,
   "metadata": {
    "collapsed": false
   },
   "outputs": [
    {
     "name": "stdout",
     "output_type": "stream",
     "text": [
      "reading training_data_for_handler.txt\n",
      "reading testing_data_for_handler.txt\n",
      "U2R label encoding done\n",
      "Model created\n",
      "Input units:  8\n",
      "Hidden units:  6\n",
      "Epoch 1/2\n",
      "125973/125973 [==============================] - 5s - loss: 0.0256 - acc: 0.9994     \n",
      "Epoch 2/2\n",
      "125973/125973 [==============================] - 4s - loss: 0.0025 - acc: 0.9996     \n"
     ]
    },
    {
     "data": {
      "text/plain": [
       "<keras.callbacks.History at 0xad477e8898>"
      ]
     },
     "execution_count": 136,
     "metadata": {},
     "output_type": "execute_result"
    }
   ],
   "source": [
    "#u2r\n",
    "u2rnames=['hot','num_compromised','root_shell','num_root','num_file_creations','num_shells','num_access_files','is_host_logi']\n",
    "xtrain,ytrain,xtest,ytest=nidsObj.GetData(attack=\"u2r\",names=u2rnames,datasetObj=datasetObj)\n",
    "u2rdetector=nidsObj.modelcreator(8,6)\n",
    "u2rdetector.fit(xtrain.as_matrix(),ytrain,nb_epoch=2)"
   ]
  },
  {
   "cell_type": "code",
   "execution_count": 137,
   "metadata": {
    "collapsed": false
   },
   "outputs": [
    {
     "name": "stdout",
     "output_type": "stream",
     "text": [
      "reading training_data_for_handler.txt\n",
      "reading testing_data_for_handler.txt\n",
      "R2L label encoding done \n",
      "Model created\n",
      "Input units:  14\n",
      "Hidden units:  10\n"
     ]
    }
   ],
   "source": [
    "#r2l\n",
    "r2lnames=['duration','protocol_type','service','flag','src_bytes','hot','num_failed_logins','logged_in','num_compromised'\n",
    "         ,'num_file_creations','num_shells','num_access_files','is_host_logi','is_guest_login']\n",
    "xtrain,ytrain,xtest,ytest=nidsObj.GetData(attack=\"r2l\",names=r2lnames,datasetObj=datasetObj)\n",
    "r2lDetector=nidsObj.modelcreator(14,10)\n"
   ]
  },
  {
   "cell_type": "code",
   "execution_count": 138,
   "metadata": {
    "collapsed": false
   },
   "outputs": [
    {
     "name": "stdout",
     "output_type": "stream",
     "text": [
      "reading training_data_for_handler.txt\n",
      "reading testing_data_for_handler.txt\n",
      "Normal label encoding done\n",
      "Model created\n",
      "Input units:  21\n",
      "Hidden units:  20\n"
     ]
    }
   ],
   "source": [
    "#normal\n",
    "normalnames=['duration','protocol_type','service','flag','src_bytes','hot','num_failed_logins','logged_in','num_compromised'\n",
    "         ,'num_file_creations','num_shells','num_access_files','is_host_logi','is_guest_login','dst_host_same_srv_rate','dst_host_serror_rate',\n",
    "          'dst_host_srv_serror_rate','dst_host_rerror_rate','root_shell','num_root','count']\n",
    "xtrain,ytrain,xtest,ytest=nidsObj.GetData(\"normal\",normalnames,datasetObj=datasetObj)\n",
    "normalDetector=nidsObj.modelcreator(21,20)"
   ]
  },
  {
   "cell_type": "code",
   "execution_count": 139,
   "metadata": {
    "collapsed": false,
    "scrolled": true
   },
   "outputs": [],
   "source": [
    "dosDetector=load_model('all_dos.h5')\n",
    "ProbeDetector=load_model('all_probe.h5')\n",
    "r2lDetector=load_model('all_r2l.h5')\n",
    "normalDetector=load_model('best_acc_normal_detector.h5')"
   ]
  },
  {
   "cell_type": "markdown",
   "metadata": {
    "collapsed": true
   },
   "source": [
    "# PHASE 2 Training"
   ]
  },
  {
   "cell_type": "code",
   "execution_count": 140,
   "metadata": {
    "collapsed": false
   },
   "outputs": [
    {
     "name": "stdout",
     "output_type": "stream",
     "text": [
      "reading training_data_for_handler.txt\n",
      "reading testing_data_for_handler.txt\n",
      "DoS label encoding done\n",
      "reading training_data_for_handler.txt\n",
      "reading testing_data_for_handler.txt\n",
      "Probe label encoding done\n",
      "reading training_data_for_handler.txt\n",
      "reading testing_data_for_handler.txt\n",
      "U2R label encoding done\n",
      "reading training_data_for_handler.txt\n",
      "reading testing_data_for_handler.txt\n",
      "R2L label encoding done \n",
      "reading training_data_for_handler.txt\n",
      "reading testing_data_for_handler.txt\n",
      "Normal label encoding done\n",
      "21568/22544 [===========================>..] - ETA: 0s"
     ]
    }
   ],
   "source": [
    "dos_xtrain,dos_ytrain,dos_xtest,dos_ytest=nidsObj.GetData(attack=\"dos\",names=dosnames,datasetObj=datasetObj)\n",
    "probe_xtrain,probe_ytrain,probe_xtest,probe_ytest=nidsObj.GetData(attack=\"probe\",names=probenames,datasetObj=datasetObj)\n",
    "u2r_xtrain,u2r_ytrain,u2r_xtest,u2r_ytest=nidsObj.GetData(attack=\"u2r\",names=u2rnames,datasetObj=datasetObj)\n",
    "r2l_xtrain,r2l_ytrain,r2l_xtest,r2l_ytest=nidsObj.GetData(attack=\"r2l\",names=r2lnames,datasetObj=datasetObj)\n",
    "normal_xtrain,normal_ytrain,normal_xtest,normal_ytest=nidsObj.GetData(attack=\"normal\",names=normalnames,datasetObj=datasetObj)\n",
    "\n",
    "\n",
    "finaltrainingProb=np.concatenate((normalDetector.predict_proba(normal_xtrain.as_matrix()),\n",
    "                                 dosDetector.predict_proba(dos_xtrain.as_matrix()),\n",
    "                                 ProbeDetector.predict_proba(probe_xtrain.as_matrix()),\n",
    "                                 r2lDetector.predict_proba(r2l_xtrain.as_matrix()),\n",
    "                                 u2rdetector.predict_proba(u2r_xtrain.as_matrix()),\n",
    "                                 ),axis=1)\n",
    "\n",
    "finaltestingProb=np.concatenate((normalDetector.predict_proba(normal_xtest.as_matrix()),\n",
    "                                 dosDetector.predict_proba(dos_xtest.as_matrix()),\n",
    "                                 ProbeDetector.predict_proba(probe_xtest.as_matrix()),\n",
    "                                 r2lDetector.predict_proba(r2l_xtest.as_matrix()),\n",
    "                                 u2rdetector.predict_proba(u2r_xtest.as_matrix()),\n",
    "                                 ),axis=1)"
   ]
  },
  {
   "cell_type": "code",
   "execution_count": 141,
   "metadata": {
    "collapsed": false
   },
   "outputs": [
    {
     "name": "stdout",
     "output_type": "stream",
     "text": [
      "reading training_data_for_handler.txt\n",
      "reading testing_data_for_handler.txt\n",
      "1-N Encoding done\n",
      "1-N Encoding done\n"
     ]
    }
   ],
   "source": [
    "n_classes=5\n",
    "xtrain,ytrain,xtest,ytest=datasetObj.getData(100,n_classes)\n",
    "ytrain=datasetObj.dense_to_one_hot(ytrain,n_classes)\n",
    "ytest=datasetObj.dense_to_one_hot(ytest,n_classes)\n",
    "ensamble_model=Sequential()\n",
    "ensamble_model.add(Dense(output_dim=1,input_dim=5,bias=True,activation='sigmoid'))\n",
    "ensamble_model.add(Dense(15,activation='sigmoid'))\n",
    "ensamble_model.add(Dropout(0.2))\n",
    "ensamble_model.add(Dense(15,activation='sigmoid',))\n",
    "ensamble_model.add(Dropout(0.2))\n",
    "ensamble_model.add(Dense(n_classes,activation='sigmoid'))\n",
    "ensamble_model.compile(metrics=[\"accuracy\"],optimizer=\"adam\",loss=\"categorical_crossentropy\")"
   ]
  },
  {
   "cell_type": "code",
   "execution_count": 142,
   "metadata": {
    "collapsed": false,
    "scrolled": true
   },
   "outputs": [
    {
     "name": "stdout",
     "output_type": "stream",
     "text": [
      "Epoch 1/1\n",
      "125973/125973 [==============================] - 6s - loss: 0.6347 - acc: 0.7342     \n"
     ]
    },
    {
     "data": {
      "text/plain": [
       "<keras.callbacks.History at 0xad4a9c57b8>"
      ]
     },
     "execution_count": 142,
     "metadata": {},
     "output_type": "execute_result"
    }
   ],
   "source": [
    "ensamble_model.fit(finaltrainingProb,ytrain,nb_epoch=1)"
   ]
  },
  {
   "cell_type": "code",
   "execution_count": 143,
   "metadata": {
    "collapsed": false
   },
   "outputs": [
    {
     "name": "stdout",
     "output_type": "stream",
     "text": [
      "125344/125973 [============================>.] - ETA: 0s"
     ]
    },
    {
     "data": {
      "text/plain": [
       "[0.30154189813270293, 0.89016694053487655]"
      ]
     },
     "execution_count": 143,
     "metadata": {},
     "output_type": "execute_result"
    }
   ],
   "source": [
    "ensamble_model.evaluate(finaltrainingProb,ytrain)\n"
   ]
  },
  {
   "cell_type": "code",
   "execution_count": 144,
   "metadata": {
    "collapsed": false
   },
   "outputs": [
    {
     "name": "stdout",
     "output_type": "stream",
     "text": [
      "22400/22544 [============================>.] - ETA: 0s"
     ]
    },
    {
     "data": {
      "text/plain": [
       "[1.4780082116742943, 0.66376863023420862]"
      ]
     },
     "execution_count": 144,
     "metadata": {},
     "output_type": "execute_result"
    }
   ],
   "source": [
    "ensamble_model.evaluate(finaltestingProb,ytest)"
   ]
  },
  {
   "cell_type": "code",
   "execution_count": 145,
   "metadata": {
    "collapsed": true
   },
   "outputs": [],
   "source": [
    "from sklearn.metrics import classification_report\n",
    "from sklearn.metrics import accuracy_score"
   ]
  },
  {
   "cell_type": "code",
   "execution_count": null,
   "metadata": {
    "collapsed": true
   },
   "outputs": [],
   "source": []
  },
  {
   "cell_type": "markdown",
   "metadata": {},
   "source": [
    "# BINARY CLASSIFIER"
   ]
  },
  {
   "cell_type": "code",
   "execution_count": 146,
   "metadata": {
    "collapsed": false
   },
   "outputs": [
    {
     "name": "stdout",
     "output_type": "stream",
     "text": [
      "reading training_data_for_handler.txt\n",
      "reading testing_data_for_handler.txt\n",
      "1-N Encoding done\n",
      "1-N Encoding done\n"
     ]
    }
   ],
   "source": [
    "n_classes=2\n",
    "xtrain,ytrain,xtest,ytest=datasetObj.getData(100,n_classes)"
   ]
  },
  {
   "cell_type": "code",
   "execution_count": 147,
   "metadata": {
    "collapsed": false
   },
   "outputs": [
    {
     "name": "stdout",
     "output_type": "stream",
     "text": [
      "Training accuaracy:  0.990196311908\n",
      "Testing accuracy:  0.813742015614\n"
     ]
    }
   ],
   "source": [
    "from sklearn.naive_bayes import GaussianNB\n",
    "gnb = GaussianNB()\n",
    "gnb.fit(finaltrainingProb,ytrain)\n",
    "print(\"Training accuaracy: \",accuracy_score(gnb.predict(finaltrainingProb),ytrain))\n",
    "print(\"Testing accuracy: \",accuracy_score(gnb.predict(finaltestingProb),ytest))"
   ]
  },
  {
   "cell_type": "code",
   "execution_count": 148,
   "metadata": {
    "collapsed": false
   },
   "outputs": [
    {
     "name": "stdout",
     "output_type": "stream",
     "text": [
      "Training accuaracy:  0.991823644749\n",
      "Testing accuaracy:  0.811834634493\n"
     ]
    }
   ],
   "source": [
    "from sklearn.linear_model import LogisticRegression\n",
    "lr=LogisticRegression(max_iter=1000)\n",
    "lr.fit(finaltrainingProb,ytrain)\n",
    "print(\"Training accuaracy: \",accuracy_score(lr.predict(finaltrainingProb),ytrain))\n",
    "print(\"Testing accuaracy: \",accuracy_score(lr.predict(finaltestingProb),ytest))"
   ]
  },
  {
   "cell_type": "code",
   "execution_count": 149,
   "metadata": {
    "collapsed": false
   },
   "outputs": [
    {
     "name": "stdout",
     "output_type": "stream",
     "text": [
      "Training accuaracy:  0.999023600295\n",
      "Testing accuaracy:  0.791297019163\n"
     ]
    }
   ],
   "source": [
    "from sklearn import tree\n",
    "clf = tree.DecisionTreeClassifier()\n",
    "clf.fit(finaltrainingProb,ytrain)\n",
    "print(\"Training accuaracy: \",accuracy_score(clf.predict(finaltrainingProb),ytrain))\n",
    "print(\"Testing accuaracy: \",accuracy_score(clf.predict(finaltestingProb),ytest))"
   ]
  },
  {
   "cell_type": "code",
   "execution_count": 150,
   "metadata": {
    "collapsed": false
   },
   "outputs": [
    {
     "name": "stdout",
     "output_type": "stream",
     "text": [
      "             precision    recall  f1-score   support\n",
      "\n",
      "          0       1.00      0.99      0.99     67343\n",
      "          1       0.99      1.00      0.99     58630\n",
      "\n",
      "avg / total       0.99      0.99      0.99    125973\n",
      "\n"
     ]
    }
   ],
   "source": [
    "a=classification_report(y_pred=lr.predict(finaltrainingProb),y_true=ytrain)\n",
    "print(a)"
   ]
  },
  {
   "cell_type": "markdown",
   "metadata": {},
   "source": [
    "# 5-class ClASSIFIER"
   ]
  },
  {
   "cell_type": "code",
   "execution_count": 151,
   "metadata": {
    "collapsed": false
   },
   "outputs": [
    {
     "name": "stdout",
     "output_type": "stream",
     "text": [
      "reading training_data_for_handler.txt\n",
      "reading testing_data_for_handler.txt\n",
      "1-N Encoding done\n",
      "1-N Encoding done\n"
     ]
    }
   ],
   "source": [
    "n_classes=5\n",
    "xtrain,ytrain,xtest,ytest=datasetObj.getData(100,n_classes)"
   ]
  },
  {
   "cell_type": "code",
   "execution_count": 152,
   "metadata": {
    "collapsed": false
   },
   "outputs": [
    {
     "name": "stdout",
     "output_type": "stream",
     "text": [
      "Training accuaracy:  0.96618322974\n",
      "Testing accuracy:  0.724449964514\n"
     ]
    }
   ],
   "source": [
    "from sklearn.naive_bayes import GaussianNB\n",
    "gnb = GaussianNB()\n",
    "gnb.fit(finaltrainingProb,ytrain)\n",
    "print(\"Training accuaracy: \",accuracy_score(gnb.predict(finaltrainingProb),ytrain))\n",
    "print(\"Testing accuracy: \",accuracy_score(gnb.predict(finaltestingProb),ytest))"
   ]
  },
  {
   "cell_type": "code",
   "execution_count": 153,
   "metadata": {
    "collapsed": false
   },
   "outputs": [
    {
     "name": "stdout",
     "output_type": "stream",
     "text": [
      "Training accuaracy:  0.981392838148\n",
      "Testing accuaracy:  0.725736337828\n"
     ]
    }
   ],
   "source": [
    "from sklearn.linear_model import LogisticRegression\n",
    "lr=LogisticRegression(max_iter=1000)\n",
    "lr.fit(finaltrainingProb,ytrain)\n",
    "print(\"Training accuaracy: \",accuracy_score(lr.predict(finaltrainingProb),ytrain))\n",
    "print(\"Testing accuaracy: \",accuracy_score(lr.predict(finaltestingProb),ytest))"
   ]
  },
  {
   "cell_type": "code",
   "execution_count": 154,
   "metadata": {
    "collapsed": false
   },
   "outputs": [
    {
     "name": "stdout",
     "output_type": "stream",
     "text": [
      "Training accuaracy:  0.998928341788\n",
      "Testing accuaracy:  0.746806245564\n"
     ]
    }
   ],
   "source": [
    "from sklearn import tree\n",
    "clf = tree.DecisionTreeClassifier()\n",
    "clf.fit(finaltrainingProb,ytrain)\n",
    "print(\"Training accuaracy: \",accuracy_score(clf.predict(finaltrainingProb),ytrain))\n",
    "print(\"Testing accuaracy: \",accuracy_score(clf.predict(finaltestingProb),ytest))"
   ]
  },
  {
   "cell_type": "code",
   "execution_count": 155,
   "metadata": {
    "collapsed": false
   },
   "outputs": [
    {
     "name": "stdout",
     "output_type": "stream",
     "text": [
      "             precision    recall  f1-score   support\n",
      "\n",
      "          0       0.98      1.00      0.99     67343\n",
      "          1       1.00      0.98      0.99     45927\n",
      "          2       0.93      0.98      0.96     11656\n",
      "          3       0.81      0.07      0.13       995\n",
      "          4       0.00      0.00      0.00        52\n",
      "\n",
      "avg / total       0.98      0.98      0.98    125973\n",
      "\n"
     ]
    },
    {
     "name": "stderr",
     "output_type": "stream",
     "text": [
      "C:\\Users\\aniruddha\\Anaconda3\\lib\\site-packages\\sklearn\\metrics\\classification.py:1113: UndefinedMetricWarning: Precision and F-score are ill-defined and being set to 0.0 in labels with no predicted samples.\n",
      "  'precision', 'predicted', average, warn_for)\n"
     ]
    }
   ],
   "source": [
    "a=classification_report(y_pred=lr.predict(finaltrainingProb),y_true=ytrain)\n",
    "print(a)"
   ]
  },
  {
   "cell_type": "code",
   "execution_count": null,
   "metadata": {
    "collapsed": false
   },
   "outputs": [],
   "source": []
  },
  {
   "cell_type": "code",
   "execution_count": null,
   "metadata": {
    "collapsed": false
   },
   "outputs": [],
   "source": []
  },
  {
   "cell_type": "code",
   "execution_count": null,
   "metadata": {
    "collapsed": true
   },
   "outputs": [],
   "source": []
  }
 ],
 "metadata": {
  "anaconda-cloud": {},
  "kernelspec": {
   "display_name": "Python [default]",
   "language": "python",
   "name": "python3"
  },
  "language_info": {
   "codemirror_mode": {
    "name": "ipython",
    "version": 3
   },
   "file_extension": ".py",
   "mimetype": "text/x-python",
   "name": "python",
   "nbconvert_exporter": "python",
   "pygments_lexer": "ipython3",
   "version": "3.5.2"
  }
 },
 "nbformat": 4,
 "nbformat_minor": 1
}
